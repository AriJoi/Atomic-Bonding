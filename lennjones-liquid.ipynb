{
 "cells": [
  {
   "cell_type": "code",
   "execution_count": 2,
   "metadata": {
    "collapsed": true
   },
   "outputs": [],
   "source": [
    "import numpy as np\n",
    "import matplotlib.pyplot as plt\n",
    "%matplotlib inline\n",
    "\n",
    "# packages for interactive plotting display\n",
    "from IPython import display\n",
    "import time"
   ]
  },
  {
   "cell_type": "code",
   "execution_count": 3,
   "metadata": {
    "collapsed": true
   },
   "outputs": [],
   "source": [
    "# Construct a 2D lennard jones fluid to experiment with\n",
    "# Everything in lennard jones units (equilibrium distance and energy)\n",
    "# NOTE: 2D volumes are actually areas V=L**2"
   ]
  },
  {
   "cell_type": "code",
   "execution_count": 4,
   "metadata": {
    "collapsed": true
   },
   "outputs": [],
   "source": [
    "# lennard jones energy\n",
    "def calc_pair_energy(dist_a):\n",
    "    # NaNs are used to represent the distance between an atom and itself\n",
    "    E_a = dist_a**-12 - 2* dist_a**-6\n",
    "    \n",
    "    # Replace any NaNs with zero energy (ignore self-interaction energy)\n",
    "    E_a[np.isnan(dist_a)] = 0.0\n",
    "    return E_a"
   ]
  },
  {
   "cell_type": "code",
   "execution_count": 5,
   "metadata": {
    "collapsed": true
   },
   "outputs": [],
   "source": [
    "N = 20 # number of atoms\n",
    "rho = 10.0 # number density of atoms\n",
    "kT = 1.0\n",
    "\n",
    "V = N*(1/rho)\n",
    "L = V**(1/2)  # 2D volumes are really areas..."
   ]
  },
  {
   "cell_type": "code",
   "execution_count": 6,
   "metadata": {
    "collapsed": true
   },
   "outputs": [],
   "source": [
    "def min_img_dist(pos0_a,pos1_a,L):\n",
    "    Ndim = 2\n",
    "    dx_a = np.zeros(Ndim)\n",
    "    for ind in range(Ndim):\n",
    "        ix0 = pos0_a[ind]\n",
    "        ix1 = pos1_a[ind]\n",
    "        \n",
    "        idx = ix0 - ix1\n",
    "        idx_img = L + ix0 - ix1\n",
    "        if np.abs(idx) < np.abs(idx_img):\n",
    "            dx_a[ind] = idx\n",
    "        else:\n",
    "            dx_a[ind] = idx_img\n",
    "            \n",
    "            \n",
    "    dist2 = 0\n",
    "    for ind in range(Ndim):\n",
    "        dist2 += dx_a[ind]**2\n",
    "        \n",
    "    dist = np.sqrt(dist2)\n",
    "    return dist\n",
    "\n",
    "def calc_pair_dist(iatom, pos_a, L):\n",
    "    if ipos_a is None:\n",
    "        ipos_a = pos_a[iatom]\n",
    "        \n",
    "    N = pos_a.shape[0]\n",
    "    dist_a = np.zeros(N)\n",
    "    \n",
    "    for j in range(N):\n",
    "        ijdist = min_img_dist(ipos_a,pos_a[j],L)\n",
    "        if ijdist==0:\n",
    "            ijdist = np.nan\n",
    "            \n",
    "        dist_a[j] = ijdist\n",
    "        \n",
    "    return dist_a\n",
    "        "
   ]
  },
  {
   "cell_type": "code",
   "execution_count": null,
   "metadata": {
    "collapsed": true
   },
   "outputs": [],
   "source": []
  },
  {
   "cell_type": "code",
   "execution_count": null,
   "metadata": {
    "collapsed": true
   },
   "outputs": [],
   "source": []
  },
  {
   "cell_type": "code",
   "execution_count": 7,
   "metadata": {
    "collapsed": true
   },
   "outputs": [],
   "source": [
    "# Consider ideal gas without any interaction energies"
   ]
  },
  {
   "cell_type": "code",
   "execution_count": 8,
   "metadata": {
    "collapsed": false
   },
   "outputs": [
    {
     "data": {
      "text/plain": [
       "<matplotlib.text.Text at 0x20d0c7f97f0>"
      ]
     },
     "execution_count": 8,
     "metadata": {},
     "output_type": "execute_result"
    },
    {
     "data": {
      "image/png": "[encoded data removed]",
      "text/plain": [
       "<matplotlib.figure.Figure at 0x20d0c7e9d68>"
      ]
     },
     "metadata": {},
     "output_type": "display_data"
    }
   ],
   "source": [
    "# Choose initial random positions and plot\n",
    "pos_a = L/2*np.random.rand(N,2)\n",
    "\n",
    "# Plot config\n",
    "plt.plot(pos_a[:,0],pos_a[:,1],'ko')\n",
    "plt.xlim(0,L)\n",
    "plt.ylim(0,L)\n",
    "\n",
    "plt.axes().set_aspect('equal') # make sure it plots as a square\n",
    "plt.xlabel('x')\n",
    "plt.ylabel('y')\n"
   ]
  },
  {
   "cell_type": "code",
   "execution_count": 9,
   "metadata": {
    "collapsed": false
   },
   "outputs": [
    {
     "data": {
      "image/png": "[encoded data removed]",
      "text/plain": [
       "<matplotlib.figure.Figure at 0x20d0c7e98d0>"
      ]
     },
     "metadata": {},
     "output_type": "display_data"
    }
   ],
   "source": [
    "# Consider random alterations to atomic positions\n",
    "Nsweep = 100\n",
    "dr_avg = (1/rho)**(1/2)\n",
    "dr_step = 0.1*dr_avg\n",
    "\n",
    "for indsweep in range(Nsweep):\n",
    "    for iatom in range(N):\n",
    "        # Generate random step from normal distribution\n",
    "        dpos_step_a = dr_step*np.random.randn(2)\n",
    "        ipos_prop_a = pos_a[iatom] + dpos_step_a \n",
    "        # Ensure that the atoms lie within the simulation cell wrapping across edges of the box\n",
    "        # Use modulo function\n",
    "        ipos_prop_a = np.mod( ipos_prop_a ,L)\n",
    "        \n",
    "        # for ideal gas, always accept proposal, since Epair = 0 for ideal gas\n",
    "        pos_a[iatom] = ipos_prop_a\n",
    "        \n",
    "    plt.cla()\n",
    "    plt.plot(pos_a[:,0],pos_a[:,1],'ko')\n",
    "    plt.xlim(0,L)\n",
    "    plt.ylim(0,L)\n",
    "\n",
    "    plt.axes().set_aspect('equal') # make sure it plots as a square\n",
    "    plt.xlabel('x')\n",
    "    plt.ylabel('y')\n",
    "    display.display(plt.gcf())\n",
    "    display.clear_output(wait=True)\n",
    "    time.sleep(.001)\n",
    "    "
   ]
  },
  {
   "cell_type": "code",
   "execution_count": null,
   "metadata": {
    "collapsed": false
   },
   "outputs": [],
   "source": [
    " "
   ]
  },
  {
   "cell_type": "code",
   "execution_count": null,
   "metadata": {
    "collapsed": false
   },
   "outputs": [],
   "source": []
  },
  {
   "cell_type": "code",
   "execution_count": 25,
   "metadata": {
    "collapsed": false
   },
   "outputs": [],
   "source": [
    "# Metropolis-Hastings acceptance criteria\n",
    "def metro_accept( dE_kT ):\n",
    "    paccept = np.exp( - dE_kT )\n",
    "    pdraw = np.random.rand(1)\n",
    "    \n",
    "    if pdraw <= paccept:\n",
    "        accept = True\n",
    "    else:\n",
    "        accept = False\n",
    "    #print(pdraw)\n",
    "    return accept\n",
    "\n"
   ]
  },
  {
   "cell_type": "code",
   "execution_count": 29,
   "metadata": {
    "collapsed": false
   },
   "outputs": [
    {
     "name": "stdout",
     "output_type": "stream",
     "text": [
      "Metropolis-Hastings Test\n",
      "---\n",
      "         dE/kT      \n",
      "  0.1,  0.3,   1.0,   3.0\n",
      "[[ True False False False]\n",
      " [ True  True False False]\n",
      " [False  True False False]\n",
      " [False  True False False]\n",
      " [ True  True  True False]\n",
      " [ True False False False]\n",
      " [ True  True False False]\n",
      " [ True  True  True  True]\n",
      " [ True  True  True False]\n",
      " [ True False False False]]\n"
     ]
    }
   ],
   "source": [
    "# Test to see that results are reasonable\n",
    "metro_test_a = []\n",
    "for ind in range(10):\n",
    "    metro_test_a.append([metro_accept(.1),metro_accept(.3), metro_accept(1), metro_accept(3)])\n",
    "    \n",
    "metro_test_a = np.array(metro_test_a)\n",
    "\n",
    "print('Metropolis-Hastings Test')\n",
    "print('---')\n",
    "print('         dE/kT      ')\n",
    "print('  0.1,  0.3,   1.0,   3.0')\n",
    "print(metro_test_a)\n",
    "            \n",
    "    \n"
   ]
  },
  {
   "cell_type": "code",
   "execution_count": null,
   "metadata": {
    "collapsed": true
   },
   "outputs": [],
   "source": []
  },
  {
   "cell_type": "code",
   "execution_count": null,
   "metadata": {
    "collapsed": true
   },
   "outputs": [],
   "source": []
  },
  {
   "cell_type": "code",
   "execution_count": 100,
   "metadata": {
    "collapsed": true
   },
   "outputs": [],
   "source": [
    "# Steps to create Monte Carlo atomic simulation code for lennard jones\n",
    "# 0) Copy code from above for ideal gas atomic position changes\n",
    "# 1) Calculate pair distances for current and proposed states(using calc_pair_dist function)\n",
    "# 2) Use metro-acceptance function to determine whether to accept or reject proposal\n",
    "# 3) If accept, store new position, otherwise leave unchanged\n",
    "\n",
    "# Run code (with plotting commands, to show how atomic positions evolve with Lennard Jones\n",
    "# interactions model\n"
   ]
  },
  {
   "cell_type": "code",
   "execution_count": null,
   "metadata": {
    "collapsed": true
   },
   "outputs": [],
   "source": []
  },
  {
   "cell_type": "code",
   "execution_count": null,
   "metadata": {
    "collapsed": true
   },
   "outputs": [],
   "source": [
    "# Now update code to store changes in energy and position as system evolves\n",
    "# 0) define new pos_hist_a and Etot_hist_a arrays, as well as current energy variable Etot\n",
    "# 1) begin by calculating energy of initial position array\n",
    "# 2) Begin monte carlo for loop. Every time proposal is accepted, update energy variable\n",
    "# 3) At the end of each sweep (through every atom in the box), store pos_a and Etot \n",
    "#    in pos_hist_a and Etot_hist_a\n",
    "#\n",
    "# 4) After monte carlo simulation, plot how total energy evolves during simulation\n",
    "#     -> it should generally decrease until the system reaches equilibrium, where it will then\n",
    "#        randomly fluctuate around an average value\n",
    "# 5) Calculate the average nearest neighbor distance for each snapshot, and then plot how it \n",
    "#      evolves during the simulation\n",
    "#     -> the average distance should aproach a value near the equilibrium value"
   ]
  }
 ],
 "metadata": {
  "anaconda-cloud": {},
  "kernelspec": {
   "display_name": "Python [default]",
   "language": "python",
   "name": "python3"
  },
  "language_info": {
   "codemirror_mode": {
    "name": "ipython",
    "version": 3
   },
   "file_extension": ".py",
   "mimetype": "text/x-python",
   "name": "python",
   "nbconvert_exporter": "python",
   "pygments_lexer": "ipython3",
   "version": "3.5.2"
  }
 },
 "nbformat": 4,
 "nbformat_minor": 0
}
