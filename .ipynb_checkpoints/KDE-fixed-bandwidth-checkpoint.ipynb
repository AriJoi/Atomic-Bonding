{
 "cells": [
  {
   "cell_type": "markdown",
   "metadata": {},
   "source": [
    "# Calculating PDF using KDE with fixed bandwidths\n",
    "\n",
    "- Kernel Density Estimation (KDE) used to calculate the PDF\n",
    "- Optimal bandwidth chosen by PDF\n",
    "- Using KDE showed us that the banndwidth needed to adapt to the density of atoms in the shell\n"
   ]
  },
  {
   "cell_type": "code",
   "execution_count": 1,
   "metadata": {
    "collapsed": false
   },
   "outputs": [],
   "source": [
    "import numpy as np\n",
    "import matplotlib.pyplot as plt\n",
    "\n",
    "from scipy import interpolate as interp\n",
    "from scipy import integrate\n",
    "\n",
    "import ase\n",
    "from ase.calculators import lj\n",
    "from ase import build\n",
    "\n",
    "from ase.md.verlet import VelocityVerlet\n",
    "from ase.md.nvtberendsen import NVTBerendsen\n",
    "from ase.md.velocitydistribution import MaxwellBoltzmannDistribution\n",
    "from ase import units\n",
    "from ase.io.trajectory import Trajectory\n",
    "\n",
    "import atombond\n",
    "\n"
   ]
  },
  {
   "cell_type": "code",
   "execution_count": 2,
   "metadata": {
    "collapsed": false
   },
   "outputs": [
    {
     "data": {
      "text/plain": [
       "<module 'atombond' from 'C:\\\\Users\\\\AJoiner\\\\Documents\\\\GitHub\\\\Atomic-Bonding\\\\atombond.py'>"
      ]
     },
     "execution_count": 2,
     "metadata": {},
     "output_type": "execute_result"
    }
   ],
   "source": [
    "import importlib\n",
    "importlib.reload(atombond)"
   ]
  },
  {
   "cell_type": "code",
   "execution_count": 3,
   "metadata": {
    "collapsed": true
   },
   "outputs": [],
   "source": [
    "%matplotlib inline"
   ]
  },
  {
   "cell_type": "code",
   "execution_count": 4,
   "metadata": {
    "collapsed": false
   },
   "outputs": [],
   "source": [
    "# NOTE this code uses Equilibrium Lennard-Jones Units\n",
    "# Units:\n",
    "#  dist   = equil sep dist of atom pair = r_min^LJ\n",
    "#  energy = |Energy at equil of atom pair| = |Energy well depth| = E_d\n",
    "rmin_sig = 2**(1/6)"
   ]
  },
  {
   "cell_type": "code",
   "execution_count": 15,
   "metadata": {
    "collapsed": true
   },
   "outputs": [],
   "source": [
    "Nx = 5\n",
    "liq_at = atombond.get_lj_fcc_struc(super_a=[Nx,Nx,Nx],dNN=1.2,E_lj=1/40)"
   ]
  },
  {
   "cell_type": "code",
   "execution_count": 34,
   "metadata": {
    "collapsed": false
   },
   "outputs": [],
   "source": [
    "Nat = liq_at.get_number_of_atoms()\n",
    "Vat = liq_at.get_volume()\n",
    "Lat = (Vat)**(1/3)\n",
    "rhoat = Nat/Vat\n",
    "rhobar = Nat/Vat"
   ]
  },
  {
   "cell_type": "code",
   "execution_count": 35,
   "metadata": {
    "collapsed": true
   },
   "outputs": [],
   "source": [
    "traj_filenm = 'lj_rho0.82_T600_N500.traj'\n",
    "traj = Trajectory(traj_filenm)"
   ]
  },
  {
   "cell_type": "code",
   "execution_count": 36,
   "metadata": {
    "collapsed": false
   },
   "outputs": [
    {
     "name": "stdout",
     "output_type": "stream",
     "text": [
      "610.940258945\n"
     ]
    }
   ],
   "source": [
    "atoms=traj[-1]\n",
    "Vtot = atoms.get_volume()\n",
    "print(Vtot)\n",
    "dist_a=atoms.get_all_distances(mic=True)\n",
    "dists_a = np.sort(dist_a)\n",
    "idist_a = dist_a[30]\n",
    "idists_a= np.sort(idist_a)[1:]\n"
   ]
  },
  {
   "cell_type": "code",
   "execution_count": 37,
   "metadata": {
    "collapsed": false,
    "scrolled": false
   },
   "outputs": [
    {
     "ename": "TypeError",
     "evalue": "approx_pdf_kde_adapt() missing 1 required positional argument: 'rhobar'",
     "output_type": "error",
     "traceback": [
      "\u001b[0;31m---------------------------------------------------------------------------\u001b[0m",
      "\u001b[0;31mTypeError\u001b[0m                                 Traceback (most recent call last)",
      "\u001b[0;32m<ipython-input-37-203e4f1b50d9>\u001b[0m in \u001b[0;36m<module>\u001b[0;34m()\u001b[0m\n\u001b[0;32m----> 1\u001b[0;31m \u001b[0mpdf_local_a\u001b[0m\u001b[1;33m,\u001b[0m\u001b[0msampdist_a\u001b[0m\u001b[1;33m,\u001b[0m\u001b[0mdn_dr_tot_a\u001b[0m\u001b[1;33m=\u001b[0m\u001b[0matombond\u001b[0m\u001b[1;33m.\u001b[0m\u001b[0mapprox_pdf_kde_adapt\u001b[0m\u001b[1;33m(\u001b[0m\u001b[0mdists_a\u001b[0m\u001b[1;33m[\u001b[0m\u001b[1;36m0\u001b[0m\u001b[1;33m]\u001b[0m\u001b[1;33m,\u001b[0m\u001b[0mrhobar\u001b[0m\u001b[1;33m,\u001b[0m \u001b[0mnum_neighbor\u001b[0m\u001b[1;33m=\u001b[0m\u001b[1;36m9\u001b[0m\u001b[1;33m,\u001b[0m\u001b[0mbandwidth_fac\u001b[0m\u001b[1;33m=\u001b[0m\u001b[1;36m4.3\u001b[0m\u001b[1;33m)\u001b[0m\u001b[1;33m\u001b[0m\u001b[0m\n\u001b[0m\u001b[1;32m      2\u001b[0m \u001b[0mplt\u001b[0m\u001b[1;33m.\u001b[0m\u001b[0mplot\u001b[0m\u001b[1;33m(\u001b[0m\u001b[0msampdist_a\u001b[0m\u001b[1;33m,\u001b[0m \u001b[0mpdf_local_a\u001b[0m\u001b[1;33m,\u001b[0m\u001b[1;34m'-'\u001b[0m\u001b[1;33m)\u001b[0m\u001b[1;33m\u001b[0m\u001b[0m\n\u001b[1;32m      3\u001b[0m \u001b[0mplt\u001b[0m\u001b[1;33m.\u001b[0m\u001b[0mxlabel\u001b[0m\u001b[1;33m(\u001b[0m\u001b[1;34m'distance'\u001b[0m\u001b[1;33m)\u001b[0m\u001b[1;33m\u001b[0m\u001b[0m\n\u001b[1;32m      4\u001b[0m \u001b[0mplt\u001b[0m\u001b[1;33m.\u001b[0m\u001b[0mylabel\u001b[0m\u001b[1;33m(\u001b[0m\u001b[1;34m'pdf'\u001b[0m\u001b[1;33m)\u001b[0m\u001b[1;33m\u001b[0m\u001b[0m\n\u001b[1;32m      5\u001b[0m \u001b[1;31m#plt.ylim(0,10)\u001b[0m\u001b[1;33m\u001b[0m\u001b[1;33m\u001b[0m\u001b[0m\n",
      "\u001b[0;31mTypeError\u001b[0m: approx_pdf_kde_adapt() missing 1 required positional argument: 'rhobar'"
     ]
    }
   ],
   "source": [
    "pdf_local_a,sampdist_a,dn_dr_tot_a=atombond.approx_pdf_kde_adapt(dists_a[0],rhobar, num_neighbor=9,bandwidth_fac=4.3)\n",
    "plt.plot(sampdist_a, pdf_local_a,'-')\n",
    "plt.xlabel('distance')\n",
    "plt.ylabel('pdf')\n",
    "#plt.ylim(0,10)\n",
    "plt.figure()\n",
    "dr = sampdist_a[1]-sampdist_a[0]\n",
    "#plt.plot(sampdist_a, np.gradient(np.cumsum(dn_dr_tot_a),dr)/sampdist_a**2, '-')\n",
    "#plt.plot(sampdist_a, dn_dr_tot_a, '-')\n",
    "dn_dr_tot_a[0]\n",
    "#print(pdf_local_a)"
   ]
  },
  {
   "cell_type": "code",
   "execution_count": 38,
   "metadata": {
    "collapsed": false
   },
   "outputs": [
    {
     "data": {
      "text/plain": [
       "[<matplotlib.lines.Line2D at 0x1dc46d1d048>]"
      ]
     },
     "execution_count": 38,
     "metadata": {},
     "output_type": "execute_result"
    },
    {
     "data": {
      "image/png": "[encoded data removed]",
      "text/plain": [
       "<matplotlib.figure.Figure at 0x1dc46f114e0>"
      ]
     },
     "metadata": {},
     "output_type": "display_data"
    }
   ],
   "source": [
    "q_a = np.linspace(-5,5,1000)\n",
    "w_a = atombond.local_kernel(q_a)\n",
    "plt.plot(q_a,w_a, '-')"
   ]
  },
  {
   "cell_type": "code",
   "execution_count": 39,
   "metadata": {
    "collapsed": false
   },
   "outputs": [
    {
     "ename": "TypeError",
     "evalue": "approx_pdf_kde() missing 1 required positional argument: 'rhobar'",
     "output_type": "error",
     "traceback": [
      "\u001b[0;31m---------------------------------------------------------------------------\u001b[0m",
      "\u001b[0;31mTypeError\u001b[0m                                 Traceback (most recent call last)",
      "\u001b[0;32m<ipython-input-39-bd0928bf4f77>\u001b[0m in \u001b[0;36m<module>\u001b[0;34m()\u001b[0m\n\u001b[1;32m      4\u001b[0m \u001b[1;33m\u001b[0m\u001b[0m\n\u001b[1;32m      5\u001b[0m \u001b[1;32mfor\u001b[0m \u001b[0mind\u001b[0m \u001b[1;32min\u001b[0m \u001b[0mnp\u001b[0m\u001b[1;33m.\u001b[0m\u001b[0marange\u001b[0m\u001b[1;33m(\u001b[0m\u001b[0mdists_a\u001b[0m\u001b[1;33m.\u001b[0m\u001b[0mshape\u001b[0m\u001b[1;33m[\u001b[0m\u001b[1;36m0\u001b[0m\u001b[1;33m]\u001b[0m\u001b[1;33m)\u001b[0m\u001b[1;33m:\u001b[0m\u001b[1;33m\u001b[0m\u001b[0m\n\u001b[0;32m----> 6\u001b[0;31m     \u001b[0mipdf_a\u001b[0m\u001b[1;33m,\u001b[0m \u001b[0msampdist_a\u001b[0m \u001b[1;33m=\u001b[0m \u001b[0matombond\u001b[0m\u001b[1;33m.\u001b[0m\u001b[0mapprox_pdf_kde\u001b[0m\u001b[1;33m(\u001b[0m\u001b[0mdists_a\u001b[0m\u001b[1;33m[\u001b[0m\u001b[0mind\u001b[0m\u001b[1;33m]\u001b[0m\u001b[1;33m,\u001b[0m\u001b[0mrhoat\u001b[0m\u001b[1;33m)\u001b[0m\u001b[1;33m\u001b[0m\u001b[0m\n\u001b[0m\u001b[1;32m      7\u001b[0m     \u001b[0mpdf_approx_grid_a\u001b[0m\u001b[1;33m.\u001b[0m\u001b[0mappend\u001b[0m\u001b[1;33m(\u001b[0m\u001b[0mipdf_a\u001b[0m\u001b[1;33m)\u001b[0m\u001b[1;33m\u001b[0m\u001b[0m\n\u001b[1;32m      8\u001b[0m \u001b[1;33m\u001b[0m\u001b[0m\n",
      "\u001b[0;31mTypeError\u001b[0m: approx_pdf_kde() missing 1 required positional argument: 'rhobar'"
     ]
    }
   ],
   "source": [
    "\n",
    "pdf_approx_grid_a = []\n",
    "#print(dists_a.shape)\n",
    "\n",
    "for ind in np.arange(dists_a.shape[0]):\n",
    "    ipdf_a, sampdist_a = atombond.approx_pdf_kde(dists_a[ind],rhoat)\n",
    "    pdf_approx_grid_a.append(ipdf_a)\n",
    "    \n",
    "pdf_approx_grid_a = np.array(pdf_approx_grid_a)\n",
    "    \n",
    "#print(ipdf_a,sampdist_a)\n",
    "#print(pdf_approx_grid_a.shape)\n",
    "print(pdf_approx_grid_a)"
   ]
  },
  {
   "cell_type": "code",
   "execution_count": 40,
   "metadata": {
    "collapsed": false
   },
   "outputs": [
    {
     "ename": "TypeError",
     "evalue": "approx_pdf_kde() missing 1 required positional argument: 'rhobar'",
     "output_type": "error",
     "traceback": [
      "\u001b[0;31m---------------------------------------------------------------------------\u001b[0m",
      "\u001b[0;31mTypeError\u001b[0m                                 Traceback (most recent call last)",
      "\u001b[0;32m<ipython-input-40-3bd079121301>\u001b[0m in \u001b[0;36m<module>\u001b[0;34m()\u001b[0m\n\u001b[0;32m----> 1\u001b[0;31m \u001b[0mpdf_approx_a\u001b[0m\u001b[1;33m,\u001b[0m\u001b[0msampdist_a\u001b[0m\u001b[1;33m=\u001b[0m\u001b[0matombond\u001b[0m\u001b[1;33m.\u001b[0m\u001b[0mapprox_pdf_kde\u001b[0m\u001b[1;33m(\u001b[0m\u001b[0mdists_a\u001b[0m\u001b[1;33m[\u001b[0m\u001b[1;36m1\u001b[0m\u001b[1;33m]\u001b[0m\u001b[1;33m,\u001b[0m\u001b[0mrhoat\u001b[0m\u001b[1;33m,\u001b[0m\u001b[0mbandwidth\u001b[0m\u001b[1;33m=\u001b[0m\u001b[1;36m0.25\u001b[0m\u001b[1;33m)\u001b[0m\u001b[1;33m\u001b[0m\u001b[0m\n\u001b[0m\u001b[1;32m      2\u001b[0m \u001b[0mplt\u001b[0m\u001b[1;33m.\u001b[0m\u001b[0mplot\u001b[0m\u001b[1;33m(\u001b[0m\u001b[0msampdist_a\u001b[0m\u001b[1;33m,\u001b[0m\u001b[0mpdf_approx_a\u001b[0m\u001b[1;33m,\u001b[0m\u001b[1;34m'-'\u001b[0m\u001b[1;33m)\u001b[0m\u001b[1;33m\u001b[0m\u001b[0m\n",
      "\u001b[0;31mTypeError\u001b[0m: approx_pdf_kde() missing 1 required positional argument: 'rhobar'"
     ]
    }
   ],
   "source": [
    "pdf_approx_a,sampdist_a=atombond.approx_pdf_kde(dists_a[1],rhoat,bandwidth=0.25)\n",
    "plt.plot(sampdist_a,pdf_approx_a,'-')"
   ]
  },
  {
   "cell_type": "code",
   "execution_count": 23,
   "metadata": {
    "collapsed": false
   },
   "outputs": [
    {
     "ename": "TypeError",
     "evalue": "approx_pdf_kde() missing 1 required positional argument: 'rhobar'",
     "output_type": "error",
     "traceback": [
      "\u001b[0;31m---------------------------------------------------------------------------\u001b[0m",
      "\u001b[0;31mTypeError\u001b[0m                                 Traceback (most recent call last)",
      "\u001b[0;32m<ipython-input-23-0b6fe798985a>\u001b[0m in \u001b[0;36m<module>\u001b[0;34m()\u001b[0m\n\u001b[1;32m      3\u001b[0m \u001b[0midists_a\u001b[0m\u001b[1;33m=\u001b[0m \u001b[0mnp\u001b[0m\u001b[1;33m.\u001b[0m\u001b[0msort\u001b[0m\u001b[1;33m(\u001b[0m\u001b[0midist_a\u001b[0m\u001b[1;33m)\u001b[0m\u001b[1;33m[\u001b[0m\u001b[1;36m1\u001b[0m\u001b[1;33m:\u001b[0m\u001b[1;33m]\u001b[0m\u001b[1;33m\u001b[0m\u001b[0m\n\u001b[1;32m      4\u001b[0m \u001b[1;33m\u001b[0m\u001b[0m\n\u001b[0;32m----> 5\u001b[0;31m \u001b[0mpdf_approx_a\u001b[0m\u001b[1;33m,\u001b[0m\u001b[0msampdist_a\u001b[0m\u001b[1;33m=\u001b[0m\u001b[0matombond\u001b[0m\u001b[1;33m.\u001b[0m\u001b[0mapprox_pdf_kde\u001b[0m\u001b[1;33m(\u001b[0m\u001b[0midists_a\u001b[0m\u001b[1;33m,\u001b[0m \u001b[0mrhoat\u001b[0m\u001b[1;33m,\u001b[0m \u001b[0mbandwidth\u001b[0m\u001b[1;33m=\u001b[0m\u001b[1;36m0.25\u001b[0m\u001b[1;33m)\u001b[0m\u001b[1;33m\u001b[0m\u001b[0m\n\u001b[0m\u001b[1;32m      6\u001b[0m \u001b[1;31m#rcut=calc_rcut_local(pdf_a,sampdist_a)\u001b[0m\u001b[1;33m\u001b[0m\u001b[1;33m\u001b[0m\u001b[0m\n\u001b[1;32m      7\u001b[0m \u001b[0mNsamp\u001b[0m\u001b[1;33m=\u001b[0m\u001b[1;36m1001\u001b[0m\u001b[1;33m\u001b[0m\u001b[0m\n",
      "\u001b[0;31mTypeError\u001b[0m: approx_pdf_kde() missing 1 required positional argument: 'rhobar'"
     ]
    }
   ],
   "source": [
    "iatom=200\n",
    "idist_a = dist_a[iatom]\n",
    "idists_a= np.sort(idist_a)[1:]\n",
    "\n",
    "pdf_approx_a,sampdist_a=atombond.approx_pdf_kde(idists_a, rhoat, bandwidth=0.25)\n",
    "#rcut=calc_rcut_local(pdf_a,sampdist_a)\n",
    "Nsamp=1001\n",
    "idist_a = dist_a[30]\n",
    "idist_a.shape\n",
    "idists_a= np.sort(idist_a)[1:]\n",
    "\n",
    "rcut=atombond.calc_rcut_local(pdf_approx_a,sampdist_a)\n",
    "print(rcut)\n",
    "\n",
    "\n",
    "plt.plot(sampdist_a,pdf_approx_a,'.')\n",
    "plt.xlabel('distance')\n",
    "plt.ylabel('g(r)')\n",
    "#print(kde_a[0])\n",
    "\n",
    "#print(kde_a[0][0:50])\n",
    "\n",
    "print(atombond.calc_rcut_local(pdf_approx_a,sampdist_a))\n",
    "print(pdf_approx_a)"
   ]
  },
  {
   "cell_type": "code",
   "execution_count": 24,
   "metadata": {
    "collapsed": false
   },
   "outputs": [
    {
     "ename": "TypeError",
     "evalue": "approx_pdf_kde() missing 1 required positional argument: 'rhobar'",
     "output_type": "error",
     "traceback": [
      "\u001b[0;31m---------------------------------------------------------------------------\u001b[0m",
      "\u001b[0;31mTypeError\u001b[0m                                 Traceback (most recent call last)",
      "\u001b[0;32m<ipython-input-24-4e7f7c966a02>\u001b[0m in \u001b[0;36m<module>\u001b[0;34m()\u001b[0m\n\u001b[1;32m      3\u001b[0m \u001b[0midists_a\u001b[0m\u001b[1;33m=\u001b[0m \u001b[0mnp\u001b[0m\u001b[1;33m.\u001b[0m\u001b[0msort\u001b[0m\u001b[1;33m(\u001b[0m\u001b[0midist_a\u001b[0m\u001b[1;33m)\u001b[0m\u001b[1;33m[\u001b[0m\u001b[1;36m1\u001b[0m\u001b[1;33m:\u001b[0m\u001b[1;33m]\u001b[0m\u001b[1;33m\u001b[0m\u001b[0m\n\u001b[1;32m      4\u001b[0m \u001b[1;33m\u001b[0m\u001b[0m\n\u001b[0;32m----> 5\u001b[0;31m \u001b[0mpdf_approx_a\u001b[0m\u001b[1;33m,\u001b[0m\u001b[0msampdist_a\u001b[0m\u001b[1;33m=\u001b[0m\u001b[0matombond\u001b[0m\u001b[1;33m.\u001b[0m\u001b[0mapprox_pdf_kde\u001b[0m\u001b[1;33m(\u001b[0m\u001b[0midists_a\u001b[0m\u001b[1;33m,\u001b[0m \u001b[0mrhoat\u001b[0m\u001b[1;33m,\u001b[0m \u001b[0mbandwidth\u001b[0m\u001b[1;33m=\u001b[0m\u001b[1;36m0.25\u001b[0m\u001b[1;33m)\u001b[0m\u001b[1;33m\u001b[0m\u001b[0m\n\u001b[0m\u001b[1;32m      6\u001b[0m \u001b[1;31m#rcut=calc_rcut_local(pdf_a,sampdist_a)\u001b[0m\u001b[1;33m\u001b[0m\u001b[1;33m\u001b[0m\u001b[0m\n\u001b[1;32m      7\u001b[0m \u001b[0mNsamp\u001b[0m\u001b[1;33m=\u001b[0m\u001b[1;36m1001\u001b[0m\u001b[1;33m\u001b[0m\u001b[0m\n",
      "\u001b[0;31mTypeError\u001b[0m: approx_pdf_kde() missing 1 required positional argument: 'rhobar'"
     ]
    }
   ],
   "source": [
    "iatom=0\n",
    "idist_a = dist_a[iatom]\n",
    "idists_a= np.sort(idist_a)[1:]\n",
    "\n",
    "pdf_approx_a,sampdist_a=atombond.approx_pdf_kde(idists_a, rhoat, bandwidth=0.25)\n",
    "#rcut=calc_rcut_local(pdf_a,sampdist_a)\n",
    "Nsamp=1001\n",
    "#idist_a = dist_a[30]\n",
    "#idist_a.shape\n",
    "#idists_a= np.sort(idist_a)[1:]\n",
    "\n",
    "#rcut=calc_rcut_local(pdf_approx_a,sampdist_a)\n",
    "#print(rcut)\n",
    "cm=plt.cm.get_cmap('Greys')\n",
    "plt.plot(sampdist_a,pdf_approx_a,'k-')\n",
    "plt.scatter(idists_a,np.random.rand(499)*0.2+1.6,s=100/idists_a,alpha=.5,lw=0,c='k')\n",
    "plt.errorbar(idists_a,0*idists_a,yerr=1.5/idists_a**2,fmt='k.',capsize=0,ms=0)\n",
    "plt.ylim(0,2)\n",
    "plt.xlim(0,3.5)\n",
    "plt.xlabel('distance')\n",
    "plt.ylabel('g(r)')\n",
    "#print(kde_a[0])\n",
    "\n",
    "#print(kde_a[0][0:50])\n",
    "\n",
    "#print(calc_rcut_local(pdf_approx_a,sampdist_a))\n",
    "#print(pdf_approx_a)"
   ]
  },
  {
   "cell_type": "code",
   "execution_count": 25,
   "metadata": {
    "collapsed": false
   },
   "outputs": [
    {
     "ename": "TypeError",
     "evalue": "approx_pdf_kde() missing 1 required positional argument: 'rhobar'",
     "output_type": "error",
     "traceback": [
      "\u001b[0;31m---------------------------------------------------------------------------\u001b[0m",
      "\u001b[0;31mTypeError\u001b[0m                                 Traceback (most recent call last)",
      "\u001b[0;32m<ipython-input-25-c7dbc64aa63c>\u001b[0m in \u001b[0;36m<module>\u001b[0;34m()\u001b[0m\n\u001b[0;32m----> 1\u001b[0;31m \u001b[0mpdf_approx_a\u001b[0m\u001b[1;33m,\u001b[0m\u001b[0msampdist_a\u001b[0m\u001b[1;33m=\u001b[0m\u001b[0matombond\u001b[0m\u001b[1;33m.\u001b[0m\u001b[0mapprox_pdf_kde\u001b[0m\u001b[1;33m(\u001b[0m\u001b[0midists_a\u001b[0m\u001b[1;33m,\u001b[0m \u001b[0mrhoat\u001b[0m\u001b[1;33m,\u001b[0m \u001b[0mbandwidth\u001b[0m\u001b[1;33m=\u001b[0m\u001b[1;36m0.25\u001b[0m\u001b[1;33m)\u001b[0m\u001b[1;33m\u001b[0m\u001b[0m\n\u001b[0m\u001b[1;32m      2\u001b[0m \u001b[1;33m\u001b[0m\u001b[0m\n\u001b[1;32m      3\u001b[0m \u001b[0mplt\u001b[0m\u001b[1;33m.\u001b[0m\u001b[0mplot\u001b[0m\u001b[1;33m(\u001b[0m\u001b[0msampdist_a\u001b[0m\u001b[1;33m,\u001b[0m\u001b[0mpdf_approx_a\u001b[0m\u001b[1;33m,\u001b[0m\u001b[1;34m'-'\u001b[0m\u001b[1;33m)\u001b[0m\u001b[1;33m\u001b[0m\u001b[0m\n\u001b[1;32m      4\u001b[0m \u001b[0mplt\u001b[0m\u001b[1;33m.\u001b[0m\u001b[0mylim\u001b[0m\u001b[1;33m(\u001b[0m\u001b[1;36m0\u001b[0m\u001b[1;33m,\u001b[0m\u001b[1;36m1.5\u001b[0m\u001b[1;33m)\u001b[0m\u001b[1;33m\u001b[0m\u001b[0m\n\u001b[1;32m      5\u001b[0m \u001b[1;33m\u001b[0m\u001b[0m\n",
      "\u001b[0;31mTypeError\u001b[0m: approx_pdf_kde() missing 1 required positional argument: 'rhobar'"
     ]
    }
   ],
   "source": [
    "pdf_approx_a,sampdist_a=atombond.approx_pdf_kde(idists_a, rhoat, bandwidth=0.25)\n",
    "\n",
    "plt.plot(sampdist_a,pdf_approx_a,'-')\n",
    "plt.ylim(0,1.5)\n",
    "\n",
    "print(approx_pdf_kde(idists_a,rhoat,bandwidth=0.25))"
   ]
  }
 ],
 "metadata": {
  "anaconda-cloud": {},
  "kernelspec": {
   "display_name": "Python [default]",
   "language": "python",
   "name": "python3"
  },
  "language_info": {
   "codemirror_mode": {
    "name": "ipython",
    "version": 3
   },
   "file_extension": ".py",
   "mimetype": "text/x-python",
   "name": "python",
   "nbconvert_exporter": "python",
   "pygments_lexer": "ipython3",
   "version": "3.5.2"
  }
 },
 "nbformat": 4,
 "nbformat_minor": 0
}
