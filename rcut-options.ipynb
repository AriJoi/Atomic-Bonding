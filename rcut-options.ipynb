{
 "cells": [
  {
   "cell_type": "markdown",
   "metadata": {},
   "source": [
    "# Comparing Rcut Local and Global\n",
    "\n",
    "- Calculates the rcut global and local(for one atom)\n",
    "- Compares histogram of rcut values"
   ]
  },
  {
   "cell_type": "code",
   "execution_count": 1,
   "metadata": {
    "collapsed": false
   },
   "outputs": [],
   "source": [
    "import numpy as np\n",
    "import matplotlib.pyplot as plt\n",
    "\n",
    "from scipy import interpolate as interp\n",
    "from scipy import integrate\n",
    "\n",
    "import ase\n",
    "from ase.calculators import lj\n",
    "from ase import build\n",
    "\n",
    "from ase.md.verlet import VelocityVerlet\n",
    "from ase.md.nvtberendsen import NVTBerendsen\n",
    "from ase.md.velocitydistribution import MaxwellBoltzmannDistribution\n",
    "from ase import units\n",
    "from ase.io.trajectory import Trajectory\n",
    "\n",
    "import atombond\n",
    "\n"
   ]
  },
  {
   "cell_type": "code",
   "execution_count": 2,
   "metadata": {
    "collapsed": false
   },
   "outputs": [
    {
     "data": {
      "text/plain": [
       "<module 'atombond' from 'C:\\\\Users\\\\AJoiner\\\\Documents\\\\Atomic-Bonding\\\\atombond.py'>"
      ]
     },
     "execution_count": 2,
     "metadata": {},
     "output_type": "execute_result"
    }
   ],
   "source": [
    "import importlib\n",
    "importlib.reload(atombond)"
   ]
  },
  {
   "cell_type": "code",
   "execution_count": 3,
   "metadata": {
    "collapsed": true
   },
   "outputs": [],
   "source": [
    "%matplotlib inline"
   ]
  },
  {
   "cell_type": "code",
   "execution_count": 7,
   "metadata": {
    "collapsed": false
   },
   "outputs": [
    {
     "name": "stdout",
     "output_type": "stream",
     "text": [
      "Atoms(symbols='X500', pbc=[True, True, True], cell=[8.48528137423857, 8.48528137423857, 8.48528137423857], positions=..., calculator=LennardJones(...))\n"
     ]
    }
   ],
   "source": [
    "Nx = 5\n",
    "liq_at = atombond.get_lj_fcc_struc(super_a=[Nx,Nx,Nx],dNN=1.2,E_lj=1/40)\n",
    "print(liq_at)"
   ]
  },
  {
   "cell_type": "code",
   "execution_count": 8,
   "metadata": {
    "collapsed": false
   },
   "outputs": [
    {
     "name": "stdout",
     "output_type": "stream",
     "text": [
      "8.48528137424 610.940258945\n"
     ]
    },
    {
     "data": {
      "text/plain": [
       "array([[ 0.        ,  0.        ,  0.        ],\n",
       "       [ 0.        ,  0.84852814,  0.84852814],\n",
       "       [ 0.        ,  0.84852814,  0.84852814],\n",
       "       ..., \n",
       "       [ 6.7882251 ,  7.63675324,  7.63675324],\n",
       "       [ 6.7882251 ,  7.63675324,  7.63675324],\n",
       "       [ 6.7882251 ,  7.63675324,  7.63675324]])"
      ]
     },
     "execution_count": 8,
     "metadata": {},
     "output_type": "execute_result"
    }
   ],
   "source": [
    "Nat = liq_at.get_number_of_atoms()\n",
    "Vat = liq_at.get_volume()\n",
    "Lat = (Vat)**(1/3)\n",
    "rhoat = Nat/Vat\n",
    "print(Lat, Vat)\n",
    "np.sort(liq_at.positions)"
   ]
  },
  {
   "cell_type": "code",
   "execution_count": 4,
   "metadata": {
    "collapsed": false
   },
   "outputs": [],
   "source": [
    "traj_filenm = 'lj_rho0.82_T600_N500.traj'\n",
    "traj = Trajectory(traj_filenm)"
   ]
  },
  {
   "cell_type": "code",
   "execution_count": 5,
   "metadata": {
    "collapsed": false
   },
   "outputs": [
    {
     "name": "stdout",
     "output_type": "stream",
     "text": [
      "610.940258945\n"
     ]
    }
   ],
   "source": [
    "atoms=traj[-1]\n",
    "Vtot = atoms.get_volume()\n",
    "print(Vtot)\n",
    "dist_a=atoms.get_all_distances(mic=True)\n",
    "dists_a = np.sort(dist_a)"
   ]
  },
  {
   "cell_type": "code",
   "execution_count": 9,
   "metadata": {
    "collapsed": false
   },
   "outputs": [
    {
     "name": "stdout",
     "output_type": "stream",
     "text": [
      "[[ 0.          0.          0.         ...,  1.00503716  1.00410012\n",
      "   1.00303243]\n",
      " [ 0.          0.          0.         ...,  0.92092712  0.91854232\n",
      "   0.9161446 ]\n",
      " [ 0.          0.          0.         ...,  1.0259304   1.02285457\n",
      "   1.01964145]\n",
      " ..., \n",
      " [ 0.          0.          0.         ...,  0.99171178  0.99283783\n",
      "   0.9939314 ]\n",
      " [ 0.          0.          0.         ...,  0.88854189  0.88714345\n",
      "   0.88580912]\n",
      " [ 0.          0.          0.         ...,  0.95576372  0.95589404\n",
      "   0.95602793]]\n"
     ]
    }
   ],
   "source": [
    "\n",
    "pdf_approx_grid_a = []\n",
    "#print(dists_a.shape)\n",
    "\n",
    "for ind in np.arange(dists_a.shape[0]):\n",
    "    ipdf_a, sampdist_a = atombond.approx_pdf_kde(dists_a[ind],rhoat)\n",
    "    pdf_approx_grid_a.append(ipdf_a)\n",
    "    \n",
    "pdf_approx_grid_a = np.array(pdf_approx_grid_a)\n",
    "    \n",
    "#print(ipdf_a,sampdist_a)\n",
    "#print(pdf_approx_grid_a.shape)\n",
    "print(pdf_approx_grid_a)"
   ]
  },
  {
   "cell_type": "code",
   "execution_count": 10,
   "metadata": {
    "collapsed": false
   },
   "outputs": [
    {
     "data": {
      "text/plain": [
       "<matplotlib.lines.Line2D at 0x22582b29ba8>"
      ]
     },
     "execution_count": 10,
     "metadata": {},
     "output_type": "execute_result"
    },
    {
     "data": {
      "image/png": "[encoded data removed]",
      "text/plain": [
       "<matplotlib.figure.Figure at 0x22582b29b70>"
      ]
     },
     "metadata": {},
     "output_type": "display_data"
    }
   ],
   "source": [
    "#rcut_global_a =[]\n",
    "#rcut_local_a =[]\n",
    "#for ind in np.arange(pdf_approx_grid_a.shape[0]):\n",
    "#    pdf_a = pdf_approx_grid_a[ind]\n",
    "#    rcut_global_a.append(calc_rcut_global(pdf_a,sampdist_a))\n",
    "#    rcut_local_a.append(calc_rcut_local(pdf_a,sampdist_a))\n",
    "    \n",
    "#rcut_global_a = np.array(rcut_global_a)\n",
    "#rcut_local_a = np.array(rcut_local_a)\n",
    "\n",
    "#for pdf_a in pdf_approx_grid_a:\n",
    "    \n",
    "Natom = 500 #pdf_approx_grid_a.shape[0]\n",
    "rcut_global_a = np.zeros(Natom)\n",
    "rcut_local_a = np.zeros(Natom)\n",
    "    \n",
    "for ind, pdf_a in enumerate(pdf_approx_grid_a):\n",
    "    rcut_global_a[ind] = atombond.calc_rcut_global(pdf_a,sampdist_a)\n",
    "    rcut_local_a[ind] = atombond.calc_rcut_local(pdf_a,sampdist_a)\n",
    "    \n",
    "\n",
    "plt.hist(rcut_global_a, 30)\n",
    "plt.hist(rcut_local_a, 50)\n",
    "plt.axvline(x=np.mean(rcut_global_a),ymin=0,ymax=140,linewidth=2,color='k')\n",
    "plt.axvline(x=np.mean(rcut_local_a),ymin=0,ymax=140,linewidth=2,color='r')"
   ]
  },
  {
   "cell_type": "code",
   "execution_count": null,
   "metadata": {
    "collapsed": true
   },
   "outputs": [],
   "source": []
  }
 ],
 "metadata": {
  "anaconda-cloud": {},
  "kernelspec": {
   "display_name": "Python [default]",
   "language": "python",
   "name": "python3"
  },
  "language_info": {
   "codemirror_mode": {
    "name": "ipython",
    "version": 3
   },
   "file_extension": ".py",
   "mimetype": "text/x-python",
   "name": "python",
   "nbconvert_exporter": "python",
   "pygments_lexer": "ipython3",
   "version": "3.5.2"
  }
 },
 "nbformat": 4,
 "nbformat_minor": 0
}
